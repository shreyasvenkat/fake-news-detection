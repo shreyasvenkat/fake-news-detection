{
 "cells": [
  {
   "cell_type": "code",
   "execution_count": 20,
   "id": "9097dede-a526-4398-9365-3ac5362cb111",
   "metadata": {},
   "outputs": [],
   "source": [
    "import numpy as np\n",
    "import pandas as pd\n",
    "import itertools\n",
    "from sklearn.model_selection import train_test_split\n",
    "from sklearn.feature_extraction.text import TfidfVectorizer #TfidfVectorizer converts sentence into numbers form since machine understands only numbers\n",
    "from sklearn.linear_model import PassiveAggressiveClassifier\n",
    "from sklearn.metrics import accuracy_score, confusion_matrix\n",
    "from sklearn.metrics import plot_confusion_matrix\n",
    "import matplotlib.pyplot as plt"
   ]
  },
  {
   "cell_type": "code",
   "execution_count": 21,
   "id": "b870aba2-1146-4a31-9011-5fb913513332",
   "metadata": {
    "scrolled": true
   },
   "outputs": [
    {
     "data": {
      "text/html": [
       "<div>\n",
       "<style scoped>\n",
       "    .dataframe tbody tr th:only-of-type {\n",
       "        vertical-align: middle;\n",
       "    }\n",
       "\n",
       "    .dataframe tbody tr th {\n",
       "        vertical-align: top;\n",
       "    }\n",
       "\n",
       "    .dataframe thead th {\n",
       "        text-align: right;\n",
       "    }\n",
       "</style>\n",
       "<table border=\"1\" class=\"dataframe\">\n",
       "  <thead>\n",
       "    <tr style=\"text-align: right;\">\n",
       "      <th></th>\n",
       "      <th>Unnamed: 0</th>\n",
       "      <th>title</th>\n",
       "      <th>text</th>\n",
       "      <th>label</th>\n",
       "    </tr>\n",
       "  </thead>\n",
       "  <tbody>\n",
       "    <tr>\n",
       "      <th>0</th>\n",
       "      <td>8476</td>\n",
       "      <td>You Can Smell Hillary’s Fear</td>\n",
       "      <td>Daniel Greenfield, a Shillman Journalism Fello...</td>\n",
       "      <td>FAKE</td>\n",
       "    </tr>\n",
       "    <tr>\n",
       "      <th>1</th>\n",
       "      <td>10294</td>\n",
       "      <td>Watch The Exact Moment Paul Ryan Committed Pol...</td>\n",
       "      <td>Google Pinterest Digg Linkedin Reddit Stumbleu...</td>\n",
       "      <td>FAKE</td>\n",
       "    </tr>\n",
       "    <tr>\n",
       "      <th>2</th>\n",
       "      <td>3608</td>\n",
       "      <td>Kerry to go to Paris in gesture of sympathy</td>\n",
       "      <td>U.S. Secretary of State John F. Kerry said Mon...</td>\n",
       "      <td>REAL</td>\n",
       "    </tr>\n",
       "    <tr>\n",
       "      <th>3</th>\n",
       "      <td>10142</td>\n",
       "      <td>Bernie supporters on Twitter erupt in anger ag...</td>\n",
       "      <td>— Kaydee King (@KaydeeKing) November 9, 2016 T...</td>\n",
       "      <td>FAKE</td>\n",
       "    </tr>\n",
       "    <tr>\n",
       "      <th>4</th>\n",
       "      <td>875</td>\n",
       "      <td>The Battle of New York: Why This Primary Matters</td>\n",
       "      <td>It's primary day in New York and front-runners...</td>\n",
       "      <td>REAL</td>\n",
       "    </tr>\n",
       "  </tbody>\n",
       "</table>\n",
       "</div>"
      ],
      "text/plain": [
       "   Unnamed: 0                                              title  \\\n",
       "0        8476                       You Can Smell Hillary’s Fear   \n",
       "1       10294  Watch The Exact Moment Paul Ryan Committed Pol...   \n",
       "2        3608        Kerry to go to Paris in gesture of sympathy   \n",
       "3       10142  Bernie supporters on Twitter erupt in anger ag...   \n",
       "4         875   The Battle of New York: Why This Primary Matters   \n",
       "\n",
       "                                                text label  \n",
       "0  Daniel Greenfield, a Shillman Journalism Fello...  FAKE  \n",
       "1  Google Pinterest Digg Linkedin Reddit Stumbleu...  FAKE  \n",
       "2  U.S. Secretary of State John F. Kerry said Mon...  REAL  \n",
       "3  — Kaydee King (@KaydeeKing) November 9, 2016 T...  FAKE  \n",
       "4  It's primary day in New York and front-runners...  REAL  "
      ]
     },
     "execution_count": 21,
     "metadata": {},
     "output_type": "execute_result"
    }
   ],
   "source": [
    "df = pd.read_csv(\"news.csv\")\n",
    "df.shape\n",
    "df.head()"
   ]
  },
  {
   "cell_type": "code",
   "execution_count": 22,
   "id": "77282ced-066d-4b1b-9502-8709d2043d59",
   "metadata": {},
   "outputs": [
    {
     "data": {
      "text/plain": [
       "0    FAKE\n",
       "1    FAKE\n",
       "2    REAL\n",
       "3    FAKE\n",
       "4    REAL\n",
       "Name: label, dtype: object"
      ]
     },
     "execution_count": 22,
     "metadata": {},
     "output_type": "execute_result"
    }
   ],
   "source": [
    "labels = df.label\n",
    "labels.head()"
   ]
  },
  {
   "cell_type": "code",
   "execution_count": 23,
   "id": "0d90a24c-8f09-4f19-ad21-fb813d3e685f",
   "metadata": {},
   "outputs": [
    {
     "data": {
      "text/plain": [
       "6237    FAKE\n",
       "3722    FAKE\n",
       "5774    FAKE\n",
       "336     REAL\n",
       "3622    REAL\n",
       "Name: label, dtype: object"
      ]
     },
     "execution_count": 23,
     "metadata": {},
     "output_type": "execute_result"
    }
   ],
   "source": [
    "x_train, x_test, y_train, y_test = train_test_split(df['text'], labels, test_size = 0.2, random_state = 7)\n",
    "y_train.head()"
   ]
  },
  {
   "cell_type": "code",
   "execution_count": null,
   "id": "a840a971-bda9-40ad-852a-cb07da87c161",
   "metadata": {},
   "outputs": [],
   "source": [
    "tfidf_vectorizer = TfidfVectorizer(stop_words='english', max_df=0.7)\n",
    "\n",
    "tfidf_train = tfidf_vectorizer.fit_transform(x_train)\n",
    "tfidf_test = tfidf_vectorizer.transform(x_test)"
   ]
  },
  {
   "cell_type": "code",
   "execution_count": null,
   "id": "fde4a038-f910-4102-b7bc-d56b424e94b0",
   "metadata": {},
   "outputs": [],
   "source": [
    "pac = PassiveAggressiveClassifier(max_iter=50)\n",
    "pac.fit(tfidf_train, y_train)\n",
    "\n",
    "y_pred = pac.predict(tfidf_test)\n",
    "score = accuracy_score(y_test, y_pred)\n",
    "print(f'Accuracy : {round(score*100,2)}%')"
   ]
  },
  {
   "cell_type": "code",
   "execution_count": null,
   "id": "3a6d54c3-9bd0-4232-bd61-770dfaaa8154",
   "metadata": {},
   "outputs": [],
   "source": [
    "confusion_matrix(y_test, y_pred, labels=['FAKE','REAL'])"
   ]
  },
  {
   "cell_type": "code",
   "execution_count": null,
   "id": "ff928474-2985-419a-aa59-af4cbabb5b6a",
   "metadata": {},
   "outputs": [],
   "source": [
    "def fake_news_det(news):\n",
    "    input_data = [news]\n",
    "    vectorized_input_data = tfidf_vectorizer.transform(input_data)\n",
    "    prediction = pac.predict(vectorized_input_data)\n",
    "    print(prediction)"
   ]
  },
  {
   "cell_type": "code",
   "execution_count": null,
   "id": "34f8f47c-29a5-4590-978b-9f06fe9c11e4",
   "metadata": {},
   "outputs": [],
   "source": [
    "#import pickle\n",
    "#pickle.dump(pac, open('model.pkl', 'wb'))"
   ]
  },
  {
   "cell_type": "code",
   "execution_count": null,
   "id": "f1c6698e-2545-4253-ad90-3a5833038a4f",
   "metadata": {},
   "outputs": [],
   "source": [
    "pac.classes_"
   ]
  },
  {
   "cell_type": "code",
   "execution_count": null,
   "id": "8b58790d-a3c5-4b8d-8202-70d754dd532e",
   "metadata": {},
   "outputs": [],
   "source": [
    "fake_news_det('Russia may run out of patience and respond to USAs rudeness 28.10.2016 AP photo Russian President Putin said at the meeting of the Valdai Club in Sochi that Washington has not been able to distinguish between terrorists and moderate opposition in Syria, despite many promises to do so. As a result, the truce was terminated, and the White House accuses the Kremlin of all mortal sins. \"This is simply a disgrace. We behave with restraint and we do not respond in such a rude way to our partners, but everything has its limits. We may respond,\" Putin warned. Pravda.Ru asked an expert opinion about the possible development of events from specialist on US-Russia relations, Victor Olevich. \"How can Putin respond?\" \"Russia has a whole arsenal of potential responses. At the moment, Russia is keeping a pause in the Syrian Arab Republic. The Russian Federation is not using its full military capability to resolve the Syrian crisis. \"If the United States continues to engage in further provocations against Russia and Russian interests , then, of course, Moscow will take more active measures to counter what remains, in fact, a terrorist threat in Syria.\" Print version Font Size \"Putin mentioned during his speech that \"our personal agreements with the US president did not work.\" He added that there were forces in Washington that did their best not to let them work. What kind of forces are they?\" \"First of all, this is the Pentagon and US intelligence agencies: the CIA and some others that have, indeed, made every effort to bury the agreements between Sergey Lavrov and US Secretary of State John Kerry that they had reached in Geneva. \"As you know, a few days after the agreement on Syria between Moscow and Washington was reached, the US military accidentally bombed one of the most combat-ready Syrian military bases near Deir ez-Zor. The bombing continued for an hour. Up to 80 Syrian military men were killed, and many more were injured. Of course, one could not talk about any agreements afterwards. \"Moreover, when Russia raised the issue at the UN Security Council, US Representative Samantha Power reacted very sharply, and, indeed, in a rude way. A few days later, a humanitarian convoy in Aleppo was attacked, and the United States and their Western allies presented totally unsubstantiated and groundless accusations against Russia again. \"It was clear that Pentagon chief Ashton Carter, a number of American generals and the CIA were not interested in a joint struggle against the terrorist threat in Syria. Jabhat en-Nusra serves as a reserve of the United States that the country uses when necessary to topple Syrian President Assad. \"These non-constructive forces in the United States want to see Hillary Clinton as president to have a more aggressive approach both to Russia and to the settlement of the Syrian crisis.\" Pravda.Ru Read article on the Russian version of Pravda.Ru US gets ready for war with Russia because of Assad')"
   ]
  },
  {
   "cell_type": "code",
   "execution_count": null,
   "id": "61a15e10",
   "metadata": {},
   "outputs": [],
   "source": []
  },
  {
   "cell_type": "code",
   "execution_count": null,
   "id": "7e741eeb",
   "metadata": {},
   "outputs": [],
   "source": []
  }
 ],
 "metadata": {
  "kernelspec": {
   "display_name": "Python 3 (ipykernel)",
   "language": "python",
   "name": "python3"
  },
  "language_info": {
   "codemirror_mode": {
    "name": "ipython",
    "version": 3
   },
   "file_extension": ".py",
   "mimetype": "text/x-python",
   "name": "python",
   "nbconvert_exporter": "python",
   "pygments_lexer": "ipython3",
   "version": "3.8.8"
  }
 },
 "nbformat": 4,
 "nbformat_minor": 5
}
